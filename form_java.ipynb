{
  "nbformat": 4,
  "nbformat_minor": 0,
  "metadata": {
    "colab": {
      "provenance": [],
      "authorship_tag": "ABX9TyMzaxlZf5nBHkIWl14LfE6Y",
      "include_colab_link": true
    },
    "kernelspec": {
      "name": "python3",
      "display_name": "Python 3"
    },
    "language_info": {
      "name": "python"
    }
  },
  "cells": [
    {
      "cell_type": "markdown",
      "metadata": {
        "id": "view-in-github",
        "colab_type": "text"
      },
      "source": [
        "<a href=\"https://colab.research.google.com/github/anitakumari16022/Author.html/blob/main/form_java.ipynb\" target=\"_parent\"><img src=\"https://colab.research.google.com/assets/colab-badge.svg\" alt=\"Open In Colab\"/></a>"
      ]
    },
    {
      "cell_type": "markdown",
      "source": [],
      "metadata": {
        "id": "RWRm_qscdn0E"
      }
    },
    {
      "cell_type": "markdown",
      "source": [],
      "metadata": {
        "id": "awkVOzmPh9cw"
      }
    },
    {
      "cell_type": "markdown",
      "source": [],
      "metadata": {
        "id": "SIXYX3mriSVc"
      }
    },
    {
      "cell_type": "code",
      "source": [
        "A=int(input(\"enter a number:\"))\n",
        "B=int(input(\"enter a number:\"))\n",
        "C=int(input(\"enter a number:\"))\n",
        "if A>B:\n",
        "  if A>C:\n",
        "    Print(A,\"A is greater\")\n",
        "  else:\n",
        "    print(C,\"C is greater\")\n",
        "else:\n",
        "  if B>C:\n",
        "    print(B\"B is greater\")\n",
        "  else:\n",
        "    print(C,\"C is greater\")"
      ],
      "metadata": {
        "colab": {
          "base_uri": "https://localhost:8080/"
        },
        "id": "uDJ-2po7uGbh",
        "outputId": "6247832a-415a-4adc-c90b-644e747e6a4f"
      },
      "execution_count": 16,
      "outputs": [
        {
          "output_type": "stream",
          "name": "stdout",
          "text": [
            "enter a number:5\n",
            "enter a number:7\n",
            "enter a number:9\n",
            "9 C is greater\n"
          ]
        }
      ]
    }
  ]
}