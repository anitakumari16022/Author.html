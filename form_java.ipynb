{
  "nbformat": 4,
  "nbformat_minor": 0,
  "metadata": {
    "colab": {
      "provenance": [],
      "authorship_tag": "ABX9TyO01wJHiELdFOyTbPRUxUrs",
      "include_colab_link": true
    },
    "kernelspec": {
      "name": "python3",
      "display_name": "Python 3"
    },
    "language_info": {
      "name": "python"
    }
  },
  "cells": [
    {
      "cell_type": "markdown",
      "metadata": {
        "id": "view-in-github",
        "colab_type": "text"
      },
      "source": [
        "<a href=\"https://colab.research.google.com/github/anitakumari16022/Author.html/blob/main/form_java.ipynb\" target=\"_parent\"><img src=\"https://colab.research.google.com/assets/colab-badge.svg\" alt=\"Open In Colab\"/></a>"
      ]
    },
    {
      "cell_type": "markdown",
      "source": [],
      "metadata": {
        "id": "RWRm_qscdn0E"
      }
    },
    {
      "cell_type": "markdown",
      "source": [],
      "metadata": {
        "id": "awkVOzmPh9cw"
      }
    },
    {
      "cell_type": "markdown",
      "source": [],
      "metadata": {
        "id": "SIXYX3mriSVc"
      }
    },
    {
      "cell_type": "code",
      "source": [
        "A=int(input(\"enter a number:\"))\n",
        "B=int(input(\"enter a number:\"))\n",
        "C=int(input(\"enter a number:\"))\n",
        "if A>B:\n",
        "  if A>C:\n",
        "    Print(A,\"A is greater\")\n",
        "  else:\n",
        "    print(C,\"C is greater\")\n",
        "else:\n",
        "  if B>C:\n",
        "    print(B\"B is greater\")\n",
        "  else:\n",
        "    print(C,\"C is greater\")"
      ],
      "metadata": {
        "colab": {
          "base_uri": "https://localhost:8080/"
        },
        "id": "uDJ-2po7uGbh",
        "outputId": "6247832a-415a-4adc-c90b-644e747e6a4f"
      },
      "execution_count": null,
      "outputs": [
        {
          "output_type": "stream",
          "name": "stdout",
          "text": [
            "enter a number:5\n",
            "enter a number:7\n",
            "enter a number:9\n",
            "9 C is greater\n"
          ]
        }
      ]
    },
    {
      "cell_type": "code",
      "source": [
        "#electricity bill\n",
        "A=int(input(\"enter a the unit:\"))\n",
        "fc=300\n",
        "rate=3\n",
        "if(A>=0 and A<=100):\n",
        "    total_bill=A*3+fc\n",
        "    print(total_bill,\"is the total bill\")\n",
        "elif(A>=100 and A<=500):\n",
        "     rate=4\n",
        "     total_bill=A*4+fc\n",
        "     print(total_bill,\"is the total bill\")\n",
        "elif(A>=500):\n",
        "     rate=5\n",
        "     total_bill = A * 5 + fc\n",
        "     print(total_bill, \"is the total bill\")\n",
        "      if(total_bill>=3000):\n",
        "        totalbill = total_bill - 0.1 * total_bill\n",
        "        print(totalbill, \"is the total bill\")\n",
        "else:\n",
        "  print(\"invalid\")\n"
      ],
      "metadata": {
        "colab": {
          "base_uri": "https://localhost:8080/",
          "height": 106
        },
        "id": "8LzYKCTLvye5",
        "outputId": "7871da83-30b5-4a51-fa38-589fb8ee0cff"
      },
      "execution_count": 46,
      "outputs": [
        {
          "output_type": "error",
          "ename": "IndentationError",
          "evalue": "unexpected indent (<ipython-input-46-7c871729d351>, line 16)",
          "traceback": [
            "\u001b[0;36m  File \u001b[0;32m\"<ipython-input-46-7c871729d351>\"\u001b[0;36m, line \u001b[0;32m16\u001b[0m\n\u001b[0;31m    if(total_bill>=3000):\u001b[0m\n\u001b[0m    ^\u001b[0m\n\u001b[0;31mIndentationError\u001b[0m\u001b[0;31m:\u001b[0m unexpected indent\n"
          ]
        }
      ]
    },
    {
      "source": [
        "#electricity bill\n",
        "A=int(input(\"enter a the unit:\"))\n",
        "fc=300\n",
        "rate=3\n",
        "if(A>=0 and A<=100):\n",
        "    total_bill=A*3+fc\n",
        "    print(total_bill,\"is the total bill\")\n",
        "elif(A>=100 and A<=500):\n",
        "     rate=4\n",
        "     total_bill=A*4+fc\n",
        "     print(total_bill,\"is the total bill\")\n",
        "elif(A>=500):\n",
        "     rate=5\n",
        "     total_bill = A * 5 + fc\n",
        "     print(total_bill, \"is the total bill\")\n",
        "     # This elif block should be indented at the same level as the others\n",
        "     if(total_bill>=3000):\n",
        "         totalbill = total_bill - 0.1 * total_bill\n",
        "         print(\"but with sunsidie it is:\",totalbill)\n",
        "else:\n",
        "  print(\"invalid\")"
      ],
      "cell_type": "code",
      "metadata": {
        "id": "kkmtvRr12grp",
        "outputId": "2a0a4120-11cd-4f21-e646-ed8a2d0ad459",
        "colab": {
          "base_uri": "https://localhost:8080/"
        }
      },
      "execution_count": 49,
      "outputs": [
        {
          "output_type": "stream",
          "name": "stdout",
          "text": [
            "enter a the unit:600\n",
            "3300 is the total bill\n",
            "but with sunsidie it is: 2970.0\n"
          ]
        }
      ]
    }
  ]
}